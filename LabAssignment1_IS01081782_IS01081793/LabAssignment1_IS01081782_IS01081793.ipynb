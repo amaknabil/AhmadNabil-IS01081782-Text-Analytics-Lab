{
 "cells": [
  {
   "cell_type": "code",
   "execution_count": 3,
   "id": "c7c530d2",
   "metadata": {},
   "outputs": [],
   "source": [
    "\"\"\" \n",
    "    Lab Assigment 1\n",
    "    Name : Ahmad Nabil Bin Yusoff      ID:IS01081782\n",
    "    Name : Ikmal Kamil Bin Mohd Kamil  ID:IS01081793\n",
    "    \n",
    "\"\"\"\n",
    "\n",
    "import re\n",
    "import json\n",
    "import requests\n",
    "import csv\n",
    "from datetime import datetime\n",
    "\n",
    "url = 'https://shopee.com.my/Apple-iPhone-15-Pro-Max-i.406354149.23680705356?sp_atk=03ddcd17-ef9a-4ddd-9206-cc22761395ae&xptdk=03ddcd17-ef9a-4ddd-9206-cc22761395ae'\n",
    "\n",
    "r = re.search(r'i\\.(\\d+)\\.(\\d+)', url)\n",
    "if r:\n",
    "    shop_id, item_id = r.group(1), r.group(2)\n",
    "else:\n",
    "    print(\"Invalid URL\")\n",
    "    exit()\n",
    "\n",
    "offset = 0\n",
    "\n",
    "# Open CSV file for writing\n",
    "with open('shopee_reviews.csv', 'w', newline='', encoding='utf-8') as csvfile:\n",
    "    fieldnames = ['Username', 'Comment', 'Date']\n",
    "    writer = csv.DictWriter(csvfile, fieldnames=fieldnames)\n",
    "\n",
    "    # Write header to CSV file\n",
    "    writer.writeheader()\n",
    "\n",
    "    while True:\n",
    "        ratings_url = f'https://shopee.com.my/api/v2/item/get_ratings?filter=0&flag=1&itemid={item_id}&limit=20&offset={offset}&shopid={shop_id}&type=0'\n",
    "        data = requests.get(ratings_url).json()\n",
    "\n",
    "        for rating in data['data']['ratings']:\n",
    "            username = rating['author_username']\n",
    "            comment = rating['comment']\n",
    "            \n",
    "            # Convert Unix timestamp to date\n",
    "            date_time = datetime.utcfromtimestamp(rating['mtime'])\n",
    "            date_only = date_time.strftime('%Y-%m-%d')\n",
    "\n",
    "            # Write data to CSV file\n",
    "            writer.writerow({'Username': username, 'Comment': comment, 'Date': date_only})\n",
    "\n",
    "        if len(data['data']['ratings']) < 20:\n",
    "            break\n",
    "\n",
    "        offset += 20\n"
   ]
  },
  {
   "cell_type": "code",
   "execution_count": null,
   "id": "814f6047",
   "metadata": {},
   "outputs": [],
   "source": []
  }
 ],
 "metadata": {
  "kernelspec": {
   "display_name": "Python 3 (ipykernel)",
   "language": "python",
   "name": "python3"
  },
  "language_info": {
   "codemirror_mode": {
    "name": "ipython",
    "version": 3
   },
   "file_extension": ".py",
   "mimetype": "text/x-python",
   "name": "python",
   "nbconvert_exporter": "python",
   "pygments_lexer": "ipython3",
   "version": "3.11.5"
  }
 },
 "nbformat": 4,
 "nbformat_minor": 5
}
