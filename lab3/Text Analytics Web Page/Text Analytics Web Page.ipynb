{
 "cells": [
  {
   "cell_type": "code",
   "execution_count": 1,
   "id": "b982dd5d",
   "metadata": {},
   "outputs": [],
   "source": [
    "import requests"
   ]
  },
  {
   "cell_type": "code",
   "execution_count": 2,
   "id": "64f8d6b6",
   "metadata": {},
   "outputs": [
    {
     "data": {
      "text/plain": [
       "<Response [200]>"
      ]
     },
     "execution_count": 2,
     "metadata": {},
     "output_type": "execute_result"
    }
   ],
   "source": [
    "page = requests.get(\"https://sites.google.com/view/cisb5123/home\")\n",
    "page"
   ]
  },
  {
   "cell_type": "code",
   "execution_count": 4,
   "id": "de3c95c0",
   "metadata": {},
   "outputs": [],
   "source": [
    "from bs4 import BeautifulSoup"
   ]
  },
  {
   "cell_type": "code",
   "execution_count": 6,
   "id": "f9a6ac04",
   "metadata": {},
   "outputs": [],
   "source": [
    "soup = BeautifulSoup(page.content,'html.parser')"
   ]
  },
  {
   "cell_type": "code",
   "execution_count": 10,
   "id": "76969e71",
   "metadata": {},
   "outputs": [
    {
     "data": {
      "text/plain": [
       "'CISB5123'"
      ]
     },
     "execution_count": 10,
     "metadata": {},
     "output_type": "execute_result"
    }
   ],
   "source": [
    "title = soup.find('h1').strong.get_text()\n",
    "subtitle = soup.find('h2').span.get_text()"
   ]
  },
  {
   "cell_type": "code",
   "execution_count": 14,
   "id": "dac1f9f4",
   "metadata": {},
   "outputs": [
    {
     "name": "stderr",
     "output_type": "stream",
     "text": [
      "C:\\Users\\amaknabil2001\\AppData\\Local\\Temp\\ipykernel_10364\\964984271.py:1: DeprecationWarning: The 'text' argument to find()-type methods is deprecated. Use 'string' instead.\n",
      "  intro_text = soup.find(text=\"Introduction\")\n"
     ]
    },
    {
     "data": {
      "text/plain": [
       "'We are going to learn how to perform web scraping.'"
      ]
     },
     "execution_count": 14,
     "metadata": {},
     "output_type": "execute_result"
    }
   ],
   "source": [
    "intro_text = soup.find(text=\"Introduction\")\n",
    "intro = soup.find('p').span.get_text()"
   ]
  },
  {
   "cell_type": "code",
   "execution_count": 16,
   "id": "0330df60",
   "metadata": {},
   "outputs": [],
   "source": [
    "step_elements = soup.find_all('li',class_='TYR86d zfr3Q')\n"
   ]
  },
  {
   "cell_type": "code",
   "execution_count": 18,
   "id": "53fe07dc",
   "metadata": {},
   "outputs": [
    {
     "name": "stdout",
     "output_type": "stream",
     "text": [
      "Data has been saved to extracted_data.txt\n"
     ]
    }
   ],
   "source": [
    "with open(\"extracted_data2\",\"w\",encoding=\"utf-8\") as file:\n",
    "    file.write(\"Title: {}\\n\".format(title))\n",
    "    file.write(\"Subtitle: {}\\n\".format(subtitle))\n",
    "    file.write(\"Introduction:{}\\n\".format(intro))\n",
    "    file.write(\"Steps:\\n\")\n",
    "    for step_element in step_elements:\n",
    "        step = step_element.find('p',class_=\"CDt4Ke zfr3Q\")\n",
    "        file.write(\"- {}\\n\".format(step))\n",
    "        \n",
    "print(\"Data has been saved to extracted_data.txt\")"
   ]
  },
  {
   "cell_type": "code",
   "execution_count": null,
   "id": "8f58c3f0",
   "metadata": {},
   "outputs": [],
   "source": []
  }
 ],
 "metadata": {
  "kernelspec": {
   "display_name": "Python 3 (ipykernel)",
   "language": "python",
   "name": "python3"
  },
  "language_info": {
   "codemirror_mode": {
    "name": "ipython",
    "version": 3
   },
   "file_extension": ".py",
   "mimetype": "text/x-python",
   "name": "python",
   "nbconvert_exporter": "python",
   "pygments_lexer": "ipython3",
   "version": "3.11.5"
  }
 },
 "nbformat": 4,
 "nbformat_minor": 5
}
