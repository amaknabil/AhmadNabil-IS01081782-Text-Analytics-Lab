{
 "cells": [
  {
   "cell_type": "code",
   "execution_count": 11,
   "id": "219e7266",
   "metadata": {},
   "outputs": [],
   "source": [
    "import requests\n",
    "from bs4 import BeautifulSoup\n",
    "import csv\n",
    "\n",
    "def scrape_page(soup,quotes):\n",
    "    for quote in soup.find_all('div',class_='quote'):\n",
    "        text = quote.find('span',class_='text').text\n",
    "        author = quote.find('small',class_='author').text\n",
    "        tags = ', '.join(tag.text for tag in quote.find_all('a',class_='tag'))\n",
    "        quotes.append({'Text': text,'Author': author,'Tags': tags})\n",
    "\n",
    "base_url = 'https://quotes.toscrape.com/'\n",
    "                         \n",
    "quotes = []\n",
    "                    \n",
    "def scrape_all_pages(url):\n",
    "    while url:\n",
    "        response = requests.get(url)\n",
    "        soup = BeautifulSoup(response.text,'html.parser')\n",
    "        scrape_page(soup,quotes)\n",
    "        next_page = soup.find('li',class_='next')\n",
    "        url = base_url + next_page.find('a')['href'] if next_page else None\n",
    "\n",
    "scrape_all_pages(base_url)\n",
    "\n",
    "with open(\"quotes2.csv\",\"w\",encoding=\"utf-8\", newline=\"\") as csvfile:\n",
    "    writer = csv.DictWriter(csvfile,fieldnames=['Text','Author','Tags'])\n",
    "    writer.writeheader()\n",
    "    writer.writerows(quotes)\n",
    "                         "
   ]
  },
  {
   "cell_type": "code",
   "execution_count": null,
   "id": "2a3e9c25",
   "metadata": {},
   "outputs": [],
   "source": []
  }
 ],
 "metadata": {
  "kernelspec": {
   "display_name": "Python 3 (ipykernel)",
   "language": "python",
   "name": "python3"
  },
  "language_info": {
   "codemirror_mode": {
    "name": "ipython",
    "version": 3
   },
   "file_extension": ".py",
   "mimetype": "text/x-python",
   "name": "python",
   "nbconvert_exporter": "python",
   "pygments_lexer": "ipython3",
   "version": "3.11.5"
  }
 },
 "nbformat": 4,
 "nbformat_minor": 5
}
