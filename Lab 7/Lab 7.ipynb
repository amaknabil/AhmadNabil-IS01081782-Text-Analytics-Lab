{
 "cells": [
  {
   "cell_type": "code",
   "execution_count": 1,
   "id": "9b321e4e",
   "metadata": {},
   "outputs": [
    {
     "ename": "ModuleNotFoundError",
     "evalue": "No module named 'textblob'",
     "output_type": "error",
     "traceback": [
      "\u001b[1;31m---------------------------------------------------------------------------\u001b[0m",
      "\u001b[1;31mModuleNotFoundError\u001b[0m                       Traceback (most recent call last)",
      "Cell \u001b[1;32mIn[1], line 1\u001b[0m\n\u001b[1;32m----> 1\u001b[0m \u001b[38;5;28;01mfrom\u001b[39;00m \u001b[38;5;21;01mtextblob\u001b[39;00m \u001b[38;5;28;01mimport\u001b[39;00m TextBlob\n\u001b[0;32m      2\u001b[0m \u001b[38;5;28;01mfrom\u001b[39;00m \u001b[38;5;21;01mvaderSentiment\u001b[39;00m\u001b[38;5;21;01m.\u001b[39;00m\u001b[38;5;21;01mvaderSentiment\u001b[39;00m \u001b[38;5;28;01mimport\u001b[39;00m SentimentIntensityAnalyzer\n\u001b[0;32m      3\u001b[0m \u001b[38;5;28;01mfrom\u001b[39;00m \u001b[38;5;21;01mtabulate\u001b[39;00m \u001b[38;5;28;01mimport\u001b[39;00m tabulate\n",
      "\u001b[1;31mModuleNotFoundError\u001b[0m: No module named 'textblob'"
     ]
    }
   ],
   "source": [
    "from textblob import TextBlob\n",
    "from vaderSentiment.vaderSentiment import SentimentIntensityAnalyzer\n",
    "from tabulate import tabulate\n"
   ]
  },
  {
   "cell_type": "code",
   "execution_count": 4,
   "id": "de622554",
   "metadata": {},
   "outputs": [
    {
     "name": "stdout",
     "output_type": "stream",
     "text": [
      "Collecting textblob\n",
      "  Obtaining dependency information for textblob from https://files.pythonhosted.org/packages/02/07/5fd2945356dd839974d3a25de8a142dc37293c21315729a41e775b5f3569/textblob-0.18.0.post0-py3-none-any.whl.metadata\n",
      "  Downloading textblob-0.18.0.post0-py3-none-any.whl.metadata (4.5 kB)\n",
      "Requirement already satisfied: vaderSentiment in c:\\users\\amaknabil2001\\anaconda3\\lib\\site-packages (3.3.2)\n",
      "Requirement already satisfied: tabulate in c:\\users\\amaknabil2001\\anaconda3\\lib\\site-packages (0.8.10)\n",
      "Requirement already satisfied: nltk>=3.8 in c:\\users\\amaknabil2001\\anaconda3\\lib\\site-packages (from textblob) (3.8.1)\n",
      "Requirement already satisfied: requests in c:\\users\\amaknabil2001\\anaconda3\\lib\\site-packages (from vaderSentiment) (2.31.0)\n",
      "Requirement already satisfied: click in c:\\users\\amaknabil2001\\anaconda3\\lib\\site-packages (from nltk>=3.8->textblob) (8.0.4)\n",
      "Requirement already satisfied: joblib in c:\\users\\amaknabil2001\\anaconda3\\lib\\site-packages (from nltk>=3.8->textblob) (1.2.0)\n",
      "Requirement already satisfied: regex>=2021.8.3 in c:\\users\\amaknabil2001\\anaconda3\\lib\\site-packages (from nltk>=3.8->textblob) (2022.7.9)\n",
      "Requirement already satisfied: tqdm in c:\\users\\amaknabil2001\\anaconda3\\lib\\site-packages (from nltk>=3.8->textblob) (4.65.0)\n",
      "Requirement already satisfied: charset-normalizer<4,>=2 in c:\\users\\amaknabil2001\\anaconda3\\lib\\site-packages (from requests->vaderSentiment) (2.0.4)\n",
      "Requirement already satisfied: idna<4,>=2.5 in c:\\users\\amaknabil2001\\anaconda3\\lib\\site-packages (from requests->vaderSentiment) (2.10)\n",
      "Requirement already satisfied: urllib3<3,>=1.21.1 in c:\\users\\amaknabil2001\\anaconda3\\lib\\site-packages (from requests->vaderSentiment) (1.26.16)\n",
      "Requirement already satisfied: certifi>=2017.4.17 in c:\\users\\amaknabil2001\\anaconda3\\lib\\site-packages (from requests->vaderSentiment) (2023.7.22)\n",
      "Requirement already satisfied: colorama in c:\\users\\amaknabil2001\\anaconda3\\lib\\site-packages (from click->nltk>=3.8->textblob) (0.4.6)\n",
      "Downloading textblob-0.18.0.post0-py3-none-any.whl (626 kB)\n",
      "   ---------------------------------------- 0.0/626.3 kB ? eta -:--:--\n",
      "   - -------------------------------------- 30.7/626.3 kB 1.3 MB/s eta 0:00:01\n",
      "   ------- -------------------------------- 122.9/626.3 kB 1.8 MB/s eta 0:00:01\n",
      "   -------------------- ------------------- 317.4/626.3 kB 2.5 MB/s eta 0:00:01\n",
      "   ------------------------------ --------- 471.0/626.3 kB 3.0 MB/s eta 0:00:01\n",
      "   ---------------------------------------- 626.3/626.3 kB 3.0 MB/s eta 0:00:00\n",
      "Installing collected packages: textblob\n",
      "Successfully installed textblob-0.18.0.post0\n",
      "Note: you may need to restart the kernel to use updated packages.\n"
     ]
    }
   ],
   "source": [
    "pip install textblob vaderSentiment tabulate"
   ]
  },
  {
   "cell_type": "code",
   "execution_count": 12,
   "id": "74f16d35",
   "metadata": {},
   "outputs": [],
   "source": [
    "from textblob import TextBlob\n",
    "from vaderSentiment.vaderSentiment import SentimentIntensityAnalyzer\n",
    "from sklearn.metrics import classification_report\n",
    "from tabulate import tabulate"
   ]
  },
  {
   "cell_type": "code",
   "execution_count": 6,
   "id": "43f48bef",
   "metadata": {},
   "outputs": [],
   "source": [
    "data = [\n",
    " (\"I love this product, it's amazing!\", 'positive'),\n",
    " (\"This product is terrible, I hate it.\", 'negative'),\n",
    " (\"It's okay, not bad but not great either.\", 'neutral'),\n",
    " (\"Best product ever, highly recommended!\", 'positive'),\n",
    " (\"I'm really disappointed with the quality.\", 'negative'),\n",
    " (\"So-so product, nothing special about it.\", 'neutral'),\n",
    " (\"The customer service was excellent!\", 'positive'),\n",
    " (\"I wasted my money on this useless product.\", 'negative'),\n",
    " (\"It's not the worst, but certainly not the best.\", 'neutral'),\n",
    " (\"I can't live without this product, it's a lifesaver!\", 'positive'),\n",
    " (\"The product arrived damaged and unusable.\", 'negative'),\n",
    " (\"It's average, neither good nor bad.\", 'neutral'),\n",
    " (\"Highly disappointed with the purchase.\", 'negative'),\n",
    " (\"The product exceeded my expectations.\", 'positive'),\n",
    " (\"It's just okay, nothing extraordinary.\", 'neutral'),\n",
    " (\"This product is excellent, it exceeded all my expectations!\", 'positive'),\n",
    " (\"I regret purchasing this product, it's a waste of money.\", 'negative'),\n",
    " (\"It's neither good nor bad, just average.\", 'neutral'),\n",
    " (\"Outstanding customer service, highly recommended!\", 'positive'),\n",
    " (\"I'm very disappointed with the quality of this item.\", 'negative'),\n",
    " (\"It's not the best product, but it gets the job done.\", 'neutral'),\n",
    " (\"This product is a game-changer, I can't imagine life without it!\", 'positive'),\n",
    " (\"I received a defective product, very dissatisfied.\", 'negative'),\n",
    " (\"It's neither great nor terrible, just okay.\", 'neutral'),\n",
    " (\"Fantastic product, I would buy it again in a heartbeat!\", 'positive'),\n",
    " (\"Avoid this product at all costs, complete waste of money.\", 'negative'),\n",
    " (\"It's decent, but nothing extraordinary.\", 'neutral'),\n",
    " (\"Impressive quality, exceeded my expectations!\", 'positive'),\n",
    " (\"I'm very unhappy with this purchase, total disappointment.\", 'negative'),\n",
    " (\"It's neither amazing nor terrible, somewhere in between.\", 'neutral')\n",
    "]"
   ]
  },
  {
   "cell_type": "code",
   "execution_count": 7,
   "id": "d78bd83b",
   "metadata": {},
   "outputs": [],
   "source": [
    "table_data = [[\"Text\", \"Actual Label\", \"TextBlob Sentiment\", \"VADER Sentiment\"]]"
   ]
  },
  {
   "cell_type": "code",
   "execution_count": 8,
   "id": "3300d3ca",
   "metadata": {},
   "outputs": [
    {
     "name": "stdout",
     "output_type": "stream",
     "text": [
      "[['Text', 'Actual Label', 'TextBlob Sentiment', 'VADER Sentiment']]\n"
     ]
    }
   ],
   "source": [
    "print(table_data)"
   ]
  },
  {
   "cell_type": "code",
   "execution_count": 14,
   "id": "c99ff6dd",
   "metadata": {},
   "outputs": [
    {
     "name": "stdout",
     "output_type": "stream",
     "text": [
      "\n",
      "Classification Report for TextBlob:\n",
      "              precision    recall  f1-score   support\n",
      "\n",
      "    negative       1.00      1.00      1.00         1\n",
      "     neutral       0.00      0.00      0.00         1\n",
      "    positive       0.50      1.00      0.67         1\n",
      "\n",
      "    accuracy                           0.67         3\n",
      "   macro avg       0.50      0.67      0.56         3\n",
      "weighted avg       0.50      0.67      0.56         3\n",
      "\n",
      "\n",
      "Classification Report for VADER:\n",
      "              precision    recall  f1-score   support\n",
      "\n",
      "    negative       1.00      1.00      1.00         1\n",
      "     neutral       0.00      0.00      0.00         1\n",
      "    positive       0.50      1.00      0.67         1\n",
      "\n",
      "    accuracy                           0.67         3\n",
      "   macro avg       0.50      0.67      0.56         3\n",
      "weighted avg       0.50      0.67      0.56         3\n",
      "\n",
      "\n",
      "Results:\n",
      "+-----------------------+----------------+------------------+---------------+\n",
      "| Text                  | Actual Label   | TextBlob Label   | VADER Label   |\n",
      "+=======================+================+==================+===============+\n",
      "| I love this product!  | positive       | positive         | positive      |\n",
      "+-----------------------+----------------+------------------+---------------+\n",
      "| I hate this product!  | negative       | negative         | negative      |\n",
      "+-----------------------+----------------+------------------+---------------+\n",
      "| This product is okay. | neutral        | positive         | positive      |\n",
      "+-----------------------+----------------+------------------+---------------+\n"
     ]
    },
    {
     "name": "stderr",
     "output_type": "stream",
     "text": [
      "C:\\Users\\amaknabil2001\\anaconda3\\Lib\\site-packages\\sklearn\\metrics\\_classification.py:1469: UndefinedMetricWarning: Precision and F-score are ill-defined and being set to 0.0 in labels with no predicted samples. Use `zero_division` parameter to control this behavior.\n",
      "  _warn_prf(average, modifier, msg_start, len(result))\n",
      "C:\\Users\\amaknabil2001\\anaconda3\\Lib\\site-packages\\sklearn\\metrics\\_classification.py:1469: UndefinedMetricWarning: Precision and F-score are ill-defined and being set to 0.0 in labels with no predicted samples. Use `zero_division` parameter to control this behavior.\n",
      "  _warn_prf(average, modifier, msg_start, len(result))\n",
      "C:\\Users\\amaknabil2001\\anaconda3\\Lib\\site-packages\\sklearn\\metrics\\_classification.py:1469: UndefinedMetricWarning: Precision and F-score are ill-defined and being set to 0.0 in labels with no predicted samples. Use `zero_division` parameter to control this behavior.\n",
      "  _warn_prf(average, modifier, msg_start, len(result))\n",
      "C:\\Users\\amaknabil2001\\anaconda3\\Lib\\site-packages\\sklearn\\metrics\\_classification.py:1469: UndefinedMetricWarning: Precision and F-score are ill-defined and being set to 0.0 in labels with no predicted samples. Use `zero_division` parameter to control this behavior.\n",
      "  _warn_prf(average, modifier, msg_start, len(result))\n",
      "C:\\Users\\amaknabil2001\\anaconda3\\Lib\\site-packages\\sklearn\\metrics\\_classification.py:1469: UndefinedMetricWarning: Precision and F-score are ill-defined and being set to 0.0 in labels with no predicted samples. Use `zero_division` parameter to control this behavior.\n",
      "  _warn_prf(average, modifier, msg_start, len(result))\n",
      "C:\\Users\\amaknabil2001\\anaconda3\\Lib\\site-packages\\sklearn\\metrics\\_classification.py:1469: UndefinedMetricWarning: Precision and F-score are ill-defined and being set to 0.0 in labels with no predicted samples. Use `zero_division` parameter to control this behavior.\n",
      "  _warn_prf(average, modifier, msg_start, len(result))\n"
     ]
    }
   ],
   "source": [
    "from textblob import TextBlob\n",
    "from vaderSentiment.vaderSentiment import SentimentIntensityAnalyzer\n",
    "from sklearn.metrics import classification_report\n",
    "from tabulate import tabulate\n",
    "\n",
    "# Sample data\n",
    "data = [(\"I love this product!\", \"positive\"),\n",
    "        (\"I hate this product!\", \"negative\"),\n",
    "        (\"This product is okay.\", \"neutral\")]\n",
    "\n",
    "table_data = []\n",
    "\n",
    "for text, actual_label in data:\n",
    "    # TextBlob\n",
    "    blob = TextBlob(text)\n",
    "    tb_polarity = blob.sentiment.polarity\n",
    "\n",
    "    # Determine label based on polarity score from TextBlob\n",
    "    if tb_polarity > 0:\n",
    "        tb_label = 'positive'\n",
    "    elif tb_polarity < 0:\n",
    "        tb_label = 'negative'\n",
    "    else:\n",
    "        tb_label = 'neutral'\n",
    "    \n",
    "    # VADER\n",
    "    analyzer = SentimentIntensityAnalyzer()\n",
    "    vs = analyzer.polarity_scores(text)\n",
    "    vader_compound = vs['compound']\n",
    "\n",
    "    # Determine label based on compound score from VADER\n",
    "    if vader_compound > 0.05:\n",
    "        vader_label = 'positive'\n",
    "    elif vader_compound < -0.05:\n",
    "        vader_label = 'negative'\n",
    "    else:\n",
    "        vader_label = 'neutral'\n",
    "\n",
    "    table_data.append([text, actual_label, tb_label, vader_label])\n",
    "\n",
    "# Calculate classification report for TextBlob\n",
    "tb_classification_report = classification_report(\n",
    "    [label for _, label in data], \n",
    "    [tb_label for _, _, tb_label, _ in table_data], \n",
    "    target_names=['negative', 'neutral', 'positive']\n",
    ")\n",
    "\n",
    "# Calculate classification report for VADER\n",
    "vader_classification_report = classification_report(\n",
    "    [label for _, label in data], \n",
    "    [vader_label for _, _, _, vader_label in table_data], \n",
    "    target_names=['negative', 'neutral', 'positive']\n",
    ")\n",
    "\n",
    "# Print classification reports\n",
    "print(\"\\nClassification Report for TextBlob:\")\n",
    "print(tb_classification_report)\n",
    "\n",
    "print(\"\\nClassification Report for VADER:\")\n",
    "print(vader_classification_report)\n",
    "\n",
    "# Display results in a table\n",
    "print(\"\\nResults:\")\n",
    "print(tabulate(table_data, headers=['Text', 'Actual Label', 'TextBlob Label', 'VADER Label'], tablefmt='grid'))\n"
   ]
  },
  {
   "cell_type": "code",
   "execution_count": 15,
   "id": "21ee4d9a",
   "metadata": {},
   "outputs": [
    {
     "name": "stdout",
     "output_type": "stream",
     "text": [
      "I love this product!    positive    positive    positive\n",
      "----------------------  ----------  ----------  ----------\n",
      "I hate this product!    negative    negative    negative\n",
      "This product is okay.   neutral     positive    positive\n"
     ]
    }
   ],
   "source": [
    "print(tabulate(table_data, headers=\"firstrow\"))\n"
   ]
  },
  {
   "cell_type": "code",
   "execution_count": 16,
   "id": "e7533eaa",
   "metadata": {},
   "outputs": [
    {
     "name": "stdout",
     "output_type": "stream",
     "text": [
      "<class 'zip'>\n"
     ]
    }
   ],
   "source": [
    "print(zip)"
   ]
  },
  {
   "cell_type": "code",
   "execution_count": null,
   "id": "56c2408e",
   "metadata": {},
   "outputs": [],
   "source": []
  }
 ],
 "metadata": {
  "kernelspec": {
   "display_name": "Python 3 (ipykernel)",
   "language": "python",
   "name": "python3"
  },
  "language_info": {
   "codemirror_mode": {
    "name": "ipython",
    "version": 3
   },
   "file_extension": ".py",
   "mimetype": "text/x-python",
   "name": "python",
   "nbconvert_exporter": "python",
   "pygments_lexer": "ipython3",
   "version": "3.11.5"
  }
 },
 "nbformat": 4,
 "nbformat_minor": 5
}
